{
 "cells": [
  {
   "cell_type": "code",
   "execution_count": 1,
   "metadata": {},
   "outputs": [],
   "source": [
    "%reload_ext autoreload\n",
    "\n",
    "from source import *\n",
    "\n",
    "%autoreload"
   ]
  },
  {
   "cell_type": "markdown",
   "metadata": {},
   "source": [
    "# Loading data"
   ]
  },
  {
   "cell_type": "markdown",
   "metadata": {},
   "source": [
    "#### Loading patient_file information..."
   ]
  },
  {
   "cell_type": "code",
   "execution_count": 2,
   "metadata": {},
   "outputs": [],
   "source": [
    "#data = Processing.json_to_df()\n",
    "data = pd.read_csv(Params.PATIENT_FILE_LOCATION_NEW)\n",
    "data[Params.AGE] = Params.CURRENT_YEAR - data[\"birth_year\"]\n",
    "data[Params.PATIENT_ID] = data[Params.PATIENT_ID].astype(str)\n",
    "data[\"infected_by\"] = data[\"infected_by\"].astype(str).str[:-2]\n",
    "data = data.drop([\"global_num\", \"birth_year\", \"country\", \"infection_order\"], axis = 1)"
   ]
  },
  {
   "cell_type": "markdown",
   "metadata": {},
   "source": [
    "#### Loading data routes information..."
   ]
  },
  {
   "cell_type": "code",
   "execution_count": 3,
   "metadata": {},
   "outputs": [],
   "source": [
    "patient_routes = pd.read_csv(Params.PATIENT_ROUTES_FILE_LOCATION)"
   ]
  },
  {
   "cell_type": "markdown",
   "metadata": {},
   "source": [
    "#### Loading case information..."
   ]
  },
  {
   "cell_type": "code",
   "execution_count": 4,
   "metadata": {},
   "outputs": [],
   "source": [
    "case_data = pd.read_csv(Params.CASE_FILE_LOCATION)"
   ]
  },
  {
   "cell_type": "markdown",
   "metadata": {},
   "source": [
    "#### Loading Region information..."
   ]
  },
  {
   "cell_type": "code",
   "execution_count": 5,
   "metadata": {},
   "outputs": [],
   "source": [
    "region_data = pd.read_csv(Params.REGION_FILE_LOCATION)"
   ]
  },
  {
   "cell_type": "markdown",
   "metadata": {},
   "source": [
    "#### Loading searchTrend information..."
   ]
  },
  {
   "cell_type": "code",
   "execution_count": 6,
   "metadata": {},
   "outputs": [],
   "source": [
    "search_trend_data = pd.read_csv(Params.SEARCH_TREND_FILE_LOCATION)"
   ]
  },
  {
   "cell_type": "markdown",
   "metadata": {},
   "source": [
    "#### Loading Time information..."
   ]
  },
  {
   "cell_type": "code",
   "execution_count": 7,
   "metadata": {},
   "outputs": [],
   "source": [
    "time_data = pd.read_csv(Params.TIME_FILE_LOCATION)"
   ]
  },
  {
   "cell_type": "markdown",
   "metadata": {},
   "source": [
    "#### Loading TimeAge information..."
   ]
  },
  {
   "cell_type": "code",
   "execution_count": 8,
   "metadata": {},
   "outputs": [],
   "source": [
    "time_age_data = pd.read_csv(Params.TIME_AGE_FILE_LOCATION)"
   ]
  },
  {
   "cell_type": "markdown",
   "metadata": {},
   "source": [
    "#### Loading TimeGender information..."
   ]
  },
  {
   "cell_type": "code",
   "execution_count": 9,
   "metadata": {},
   "outputs": [],
   "source": [
    "time_gender_data = pd.read_csv(Params.TIME_GENDER_FILE_LOCATION)"
   ]
  },
  {
   "cell_type": "markdown",
   "metadata": {},
   "source": [
    "#### Loading TimeProvince information..."
   ]
  },
  {
   "cell_type": "code",
   "execution_count": 10,
   "metadata": {},
   "outputs": [],
   "source": [
    "time_province_data = pd.read_csv(Params.TIME_PROVINCE_FILE_LOCATION)"
   ]
  },
  {
   "cell_type": "markdown",
   "metadata": {},
   "source": [
    "#### Loading graph information..."
   ]
  },
  {
   "cell_type": "code",
   "execution_count": 11,
   "metadata": {},
   "outputs": [],
   "source": [
    "graph_data = pd.read_pickle(Params.GRAPH_DATA_FILE_LOCATION).drop(\"city\", axis = 1).fillna(0)\n",
    "graph_data[Params.PATIENT_ID] = graph_data[Params.PATIENT_ID].astype(str)"
   ]
  },
  {
   "cell_type": "code",
   "execution_count": 12,
   "metadata": {},
   "outputs": [],
   "source": [
    "data.columns =  [\n",
    "    Params.PATIENT_ID,\n",
    "    Params.SEX,\n",
    "    Params.AGE,\n",
    "    Params.PROVINCE,\n",
    "    Params.CITY,\n",
    "    Params.OTHER_DISEASE,\n",
    "    Params.INFECTION_CASE,\n",
    "    Params.INFECTOR_ID,\n",
    "    Params.NUMBER_OF_CONTACTS,\n",
    "    Params.SYMPTOM_ONSET_DATE,\n",
    "    Params.CONFIRMED_DATE,\n",
    "    Params.RELEASED_DATE,\n",
    "    Params.DEATH_DATE,\n",
    "    Params.STATE\n",
    "]"
   ]
  },
  {
   "cell_type": "markdown",
   "metadata": {},
   "source": [
    "# Processing and Analysis"
   ]
  },
  {
   "cell_type": "markdown",
   "metadata": {},
   "source": [
    "#### Converting date strings to datetime data type..."
   ]
  },
  {
   "cell_type": "code",
   "execution_count": 13,
   "metadata": {},
   "outputs": [],
   "source": [
    "data[Params.SYMPTOM_ONSET_DATE] = Processing.convert_column_to_datetime(data[Params.SYMPTOM_ONSET_DATE])\n",
    "data[Params.CONFIRMED_DATE] = Processing.convert_column_to_datetime(data[Params.CONFIRMED_DATE])\n",
    "data[Params.RELEASED_DATE] = Processing.convert_column_to_datetime(data[Params.RELEASED_DATE])\n",
    "data[Params.DEATH_DATE] = Processing.convert_column_to_datetime(data[Params.DEATH_DATE])\n"
   ]
  },
  {
   "cell_type": "code",
   "execution_count": 14,
   "metadata": {},
   "outputs": [
    {
     "data": {
      "text/plain": [
       "patient_id                    object\n",
       "sex                           object\n",
       "age                          float64\n",
       "province                      object\n",
       "city                          object\n",
       "other_disease                 object\n",
       "infection_case                object\n",
       "infector_id                   object\n",
       "number_of_contacts           float64\n",
       "symptom_onset_date    datetime64[ns]\n",
       "comfirmed_date        datetime64[ns]\n",
       "released_date         datetime64[ns]\n",
       "death_date            datetime64[ns]\n",
       "state                         object\n",
       "dtype: object"
      ]
     },
     "execution_count": 14,
     "metadata": {},
     "output_type": "execute_result"
    }
   ],
   "source": [
    "data.dtypes"
   ]
  },
  {
   "cell_type": "code",
   "execution_count": 15,
   "metadata": {},
   "outputs": [
    {
     "data": {
      "text/plain": [
       "patient_id      int64\n",
       "global_num    float64\n",
       "date           object\n",
       "province       object\n",
       "city           object\n",
       "type           object\n",
       "latitude      float64\n",
       "longitude     float64\n",
       "dtype: object"
      ]
     },
     "execution_count": 15,
     "metadata": {},
     "output_type": "execute_result"
    }
   ],
   "source": [
    "patient_routes.dtypes"
   ]
  },
  {
   "cell_type": "markdown",
   "metadata": {},
   "source": [
    "#### Number of patients in each state"
   ]
  },
  {
   "cell_type": "code",
   "execution_count": 16,
   "metadata": {},
   "outputs": [
    {
     "data": {
      "text/html": [
       "<div>\n",
       "<style scoped>\n",
       "    .dataframe tbody tr th:only-of-type {\n",
       "        vertical-align: middle;\n",
       "    }\n",
       "\n",
       "    .dataframe tbody tr th {\n",
       "        vertical-align: top;\n",
       "    }\n",
       "\n",
       "    .dataframe thead th {\n",
       "        text-align: right;\n",
       "    }\n",
       "</style>\n",
       "<table border=\"1\" class=\"dataframe\">\n",
       "  <thead>\n",
       "    <tr style=\"text-align: right;\">\n",
       "      <th></th>\n",
       "      <th>patient_id</th>\n",
       "    </tr>\n",
       "    <tr>\n",
       "      <th>state</th>\n",
       "      <th></th>\n",
       "    </tr>\n",
       "  </thead>\n",
       "  <tbody>\n",
       "    <tr>\n",
       "      <th>deceased</th>\n",
       "      <td>67</td>\n",
       "    </tr>\n",
       "    <tr>\n",
       "      <th>isolated</th>\n",
       "      <td>1747</td>\n",
       "    </tr>\n",
       "    <tr>\n",
       "      <th>released</th>\n",
       "      <td>1439</td>\n",
       "    </tr>\n",
       "  </tbody>\n",
       "</table>\n",
       "</div>"
      ],
      "text/plain": [
       "          patient_id\n",
       "state               \n",
       "deceased          67\n",
       "isolated        1747\n",
       "released        1439"
      ]
     },
     "execution_count": 16,
     "metadata": {},
     "output_type": "execute_result"
    }
   ],
   "source": [
    "data.groupby(\"state\").count()[[\"patient_id\"]]"
   ]
  },
  {
   "cell_type": "markdown",
   "metadata": {},
   "source": [
    "#### Average age of people in each of the different states..."
   ]
  },
  {
   "cell_type": "code",
   "execution_count": 17,
   "metadata": {},
   "outputs": [
    {
     "data": {
      "text/html": [
       "<div>\n",
       "<style scoped>\n",
       "    .dataframe tbody tr th:only-of-type {\n",
       "        vertical-align: middle;\n",
       "    }\n",
       "\n",
       "    .dataframe tbody tr th {\n",
       "        vertical-align: top;\n",
       "    }\n",
       "\n",
       "    .dataframe thead th {\n",
       "        text-align: right;\n",
       "    }\n",
       "</style>\n",
       "<table border=\"1\" class=\"dataframe\">\n",
       "  <thead>\n",
       "    <tr style=\"text-align: right;\">\n",
       "      <th></th>\n",
       "      <th>age</th>\n",
       "    </tr>\n",
       "    <tr>\n",
       "      <th>state</th>\n",
       "      <th></th>\n",
       "    </tr>\n",
       "  </thead>\n",
       "  <tbody>\n",
       "    <tr>\n",
       "      <th>deceased</th>\n",
       "      <td>74.269841</td>\n",
       "    </tr>\n",
       "    <tr>\n",
       "      <th>isolated</th>\n",
       "      <td>46.415525</td>\n",
       "    </tr>\n",
       "    <tr>\n",
       "      <th>released</th>\n",
       "      <td>42.256265</td>\n",
       "    </tr>\n",
       "  </tbody>\n",
       "</table>\n",
       "</div>"
      ],
      "text/plain": [
       "                age\n",
       "state              \n",
       "deceased  74.269841\n",
       "isolated  46.415525\n",
       "released  42.256265"
      ]
     },
     "execution_count": 17,
     "metadata": {},
     "output_type": "execute_result"
    }
   ],
   "source": [
    "data.groupby(\"state\").mean()[[\"age\"]]"
   ]
  },
  {
   "cell_type": "markdown",
   "metadata": {},
   "source": [
    "#### Get the percentage of the infectors that also appear as patients..."
   ]
  },
  {
   "cell_type": "code",
   "execution_count": 18,
   "metadata": {},
   "outputs": [
    {
     "name": "stdout",
     "output_type": "stream",
     "text": [
      "The percentage of the infectors that also appear as patient_ids: 98.82 %\n"
     ]
    }
   ],
   "source": [
    "print(\"The percentage of the infectors that also appear as patient_ids: {:.2f} %\".format(\n",
    "    Analysis.perc_of_infectors_who_are_patients(data) * 100))\n"
   ]
  },
  {
   "cell_type": "markdown",
   "metadata": {},
   "source": [
    "#### Keeping only the patients with non-null age..."
   ]
  },
  {
   "cell_type": "code",
   "execution_count": 19,
   "metadata": {},
   "outputs": [],
   "source": [
    "#data = data[(data[Params.STATE] != \"isolated\") & (~data[Params.AGE].isnull())]\n",
    "data = data[~data[Params.AGE].isnull()]"
   ]
  },
  {
   "cell_type": "markdown",
   "metadata": {},
   "source": [
    "#### Get the admission date from patient routes information and join it to patient info dataset..."
   ]
  },
  {
   "cell_type": "code",
   "execution_count": 20,
   "metadata": {
    "scrolled": true
   },
   "outputs": [],
   "source": [
    "joined_data = Processing.enhance_patient_info_with_admission_date_info(data, patient_routes)"
   ]
  },
  {
   "cell_type": "markdown",
   "metadata": {},
   "source": [
    "#### Histogram of the number of days spent in hospital (RELEASED PATIENTS)"
   ]
  },
  {
   "cell_type": "code",
   "execution_count": 21,
   "metadata": {},
   "outputs": [
    {
     "data": {
      "text/plain": [
       "<matplotlib.axes._subplots.AxesSubplot at 0x7f09068bb650>"
      ]
     },
     "execution_count": 21,
     "metadata": {},
     "output_type": "execute_result"
    },
    {
     "data": {
      "image/png": "[encoded data removed]",
      "text/plain": [
       "<Figure size 432x288 with 1 Axes>"
      ]
     },
     "metadata": {
      "needs_background": "light"
     },
     "output_type": "display_data"
    }
   ],
   "source": [
    "(joined_data[Params.RELEASED_DATE] - joined_data[Params.ADMISSION_DATE]).dt.days.hist()"
   ]
  },
  {
   "cell_type": "markdown",
   "metadata": {},
   "source": [
    "#### Histogram of the number of days spent in hospital (DECEASED PATIENTS)"
   ]
  },
  {
   "cell_type": "code",
   "execution_count": 22,
   "metadata": {},
   "outputs": [
    {
     "data": {
      "text/plain": [
       "<matplotlib.axes._subplots.AxesSubplot at 0x7f0906082050>"
      ]
     },
     "execution_count": 22,
     "metadata": {},
     "output_type": "execute_result"
    },
    {
     "data": {
      "image/png": "[encoded data removed]",
      "text/plain": [
       "<Figure size 432x288 with 1 Axes>"
      ]
     },
     "metadata": {
      "needs_background": "light"
     },
     "output_type": "display_data"
    }
   ],
   "source": [
    "(joined_data[Params.DEATH_DATE] - joined_data[Params.ADMISSION_DATE]).dt.days.hist()"
   ]
  },
  {
   "cell_type": "markdown",
   "metadata": {},
   "source": [
    "#### Histogram of the number of days spent in hospital (CURRENT ISOLATED PATIENTS)"
   ]
  },
  {
   "cell_type": "code",
   "execution_count": 23,
   "metadata": {},
   "outputs": [
    {
     "data": {
      "text/plain": [
       "<matplotlib.axes._subplots.AxesSubplot at 0x7f0905febd90>"
      ]
     },
     "execution_count": 23,
     "metadata": {},
     "output_type": "execute_result"
    },
    {
     "data": {
      "image/png": "[encoded data removed]",
      "text/plain": [
       "<Figure size 432x288 with 1 Axes>"
      ]
     },
     "metadata": {
      "needs_background": "light"
     },
     "output_type": "display_data"
    }
   ],
   "source": [
    "isolated_data = joined_data[joined_data[Params.STATE] == \"isolated\"]\n",
    "(Params.MOST_RECENT_DATE_RECORDED - isolated_data[Params.ADMISSION_DATE]).dt.days.hist()"
   ]
  },
  {
   "cell_type": "markdown",
   "metadata": {},
   "source": [
    "#### Get the average days spent in hospital per status..."
   ]
  },
  {
   "cell_type": "code",
   "execution_count": 24,
   "metadata": {},
   "outputs": [],
   "source": [
    "#Analysis.get_avg_of_staying_in_hospital_per_state(joined_data)"
   ]
  },
  {
   "cell_type": "markdown",
   "metadata": {},
   "source": [
    "#### Map state to severity of case and discard the released ones without a released date or the censored isolated ones..."
   ]
  },
  {
   "cell_type": "code",
   "execution_count": 25,
   "metadata": {},
   "outputs": [
    {
     "name": "stderr",
     "output_type": "stream",
     "text": [
      "/home/andreas/Documents/python-projects/corona_hackathon/source/Processing.py:279: SettingWithCopyWarning: \n",
      "A value is trying to be set on a copy of a slice from a DataFrame.\n",
      "Try using .loc[row_indexer,col_indexer] = value instead\n",
      "\n",
      "See the caveats in the documentation: https://pandas.pydata.org/pandas-docs/stable/user_guide/indexing.html#returning-a-view-versus-a-copy\n",
      "  deceased_patients[Params.STATE] = Params.SEVERE\n",
      "/home/andreas/Documents/python-projects/corona_hackathon/source/Processing.py:270: SettingWithCopyWarning: \n",
      "A value is trying to be set on a copy of a slice from a DataFrame.\n",
      "Try using .loc[row_indexer,col_indexer] = value instead\n",
      "\n",
      "See the caveats in the documentation: https://pandas.pydata.org/pandas-docs/stable/user_guide/indexing.html#returning-a-view-versus-a-copy\n",
      "  isolated_patients[\"days_in_hospital\"] = (current_date - isolated_patients[Params.ADMISSION_DATE]).dt.days\n",
      "/home/andreas/anaconda3/envs/ba_env/lib/python3.7/site-packages/pandas/core/indexing.py:966: SettingWithCopyWarning: \n",
      "A value is trying to be set on a copy of a slice from a DataFrame.\n",
      "Try using .loc[row_indexer,col_indexer] = value instead\n",
      "\n",
      "See the caveats in the documentation: https://pandas.pydata.org/pandas-docs/stable/user_guide/indexing.html#returning-a-view-versus-a-copy\n",
      "  self.obj[item] = s\n",
      "/home/andreas/Documents/python-projects/corona_hackathon/source/Processing.py:260: SettingWithCopyWarning: \n",
      "A value is trying to be set on a copy of a slice from a DataFrame.\n",
      "Try using .loc[row_indexer,col_indexer] = value instead\n",
      "\n",
      "See the caveats in the documentation: https://pandas.pydata.org/pandas-docs/stable/user_guide/indexing.html#returning-a-view-versus-a-copy\n",
      "  released_patients[\"days_in_hospital\"] = (released_patients[Params.RELEASED_DATE] - released_patients[Params.ADMISSION_DATE]).dt.days\n"
     ]
    }
   ],
   "source": [
    "joined_data = Processing.map_state_to_severity(joined_data)"
   ]
  },
  {
   "cell_type": "markdown",
   "metadata": {},
   "source": [
    "#### Distribution of classes..."
   ]
  },
  {
   "cell_type": "code",
   "execution_count": 26,
   "metadata": {},
   "outputs": [
    {
     "data": {
      "text/html": [
       "<div>\n",
       "<style scoped>\n",
       "    .dataframe tbody tr th:only-of-type {\n",
       "        vertical-align: middle;\n",
       "    }\n",
       "\n",
       "    .dataframe tbody tr th {\n",
       "        vertical-align: top;\n",
       "    }\n",
       "\n",
       "    .dataframe thead th {\n",
       "        text-align: right;\n",
       "    }\n",
       "</style>\n",
       "<table border=\"1\" class=\"dataframe\">\n",
       "  <thead>\n",
       "    <tr style=\"text-align: right;\">\n",
       "      <th></th>\n",
       "      <th>patient_id</th>\n",
       "      <th>sex</th>\n",
       "      <th>age</th>\n",
       "      <th>province</th>\n",
       "      <th>city</th>\n",
       "      <th>other_disease</th>\n",
       "      <th>infection_case</th>\n",
       "      <th>infector_id</th>\n",
       "      <th>number_of_contacts</th>\n",
       "      <th>symptom_onset_date</th>\n",
       "      <th>comfirmed_date</th>\n",
       "      <th>released_date</th>\n",
       "      <th>death_date</th>\n",
       "      <th>admission_date</th>\n",
       "    </tr>\n",
       "    <tr>\n",
       "      <th>state</th>\n",
       "      <th></th>\n",
       "      <th></th>\n",
       "      <th></th>\n",
       "      <th></th>\n",
       "      <th></th>\n",
       "      <th></th>\n",
       "      <th></th>\n",
       "      <th></th>\n",
       "      <th></th>\n",
       "      <th></th>\n",
       "      <th></th>\n",
       "      <th></th>\n",
       "      <th></th>\n",
       "      <th></th>\n",
       "    </tr>\n",
       "  </thead>\n",
       "  <tbody>\n",
       "    <tr>\n",
       "      <th>mild</th>\n",
       "      <td>919</td>\n",
       "      <td>919</td>\n",
       "      <td>919</td>\n",
       "      <td>919</td>\n",
       "      <td>914</td>\n",
       "      <td>0</td>\n",
       "      <td>437</td>\n",
       "      <td>919</td>\n",
       "      <td>197</td>\n",
       "      <td>88</td>\n",
       "      <td>919</td>\n",
       "      <td>919</td>\n",
       "      <td>0</td>\n",
       "      <td>919</td>\n",
       "    </tr>\n",
       "    <tr>\n",
       "      <th>severe</th>\n",
       "      <td>351</td>\n",
       "      <td>351</td>\n",
       "      <td>351</td>\n",
       "      <td>351</td>\n",
       "      <td>313</td>\n",
       "      <td>17</td>\n",
       "      <td>173</td>\n",
       "      <td>351</td>\n",
       "      <td>41</td>\n",
       "      <td>37</td>\n",
       "      <td>351</td>\n",
       "      <td>27</td>\n",
       "      <td>56</td>\n",
       "      <td>351</td>\n",
       "    </tr>\n",
       "  </tbody>\n",
       "</table>\n",
       "</div>"
      ],
      "text/plain": [
       "        patient_id  sex  age  province  city  other_disease  infection_case  \\\n",
       "state                                                                         \n",
       "mild           919  919  919       919   914              0             437   \n",
       "severe         351  351  351       351   313             17             173   \n",
       "\n",
       "        infector_id  number_of_contacts  symptom_onset_date  comfirmed_date  \\\n",
       "state                                                                         \n",
       "mild            919                 197                  88             919   \n",
       "severe          351                  41                  37             351   \n",
       "\n",
       "        released_date  death_date  admission_date  \n",
       "state                                              \n",
       "mild              919           0             919  \n",
       "severe             27          56             351  "
      ]
     },
     "execution_count": 26,
     "metadata": {},
     "output_type": "execute_result"
    }
   ],
   "source": [
    "joined_data.groupby(Params.STATE).count()"
   ]
  },
  {
   "cell_type": "markdown",
   "metadata": {},
   "source": [
    "#### Join patient information to the infector's information..."
   ]
  },
  {
   "cell_type": "code",
   "execution_count": 27,
   "metadata": {},
   "outputs": [],
   "source": [
    "#joined_data = Processing.join_patient_data_with_infector_data(joined_data)"
   ]
  },
  {
   "cell_type": "markdown",
   "metadata": {},
   "source": [
    "#### Re-grouping and imputing infection case data..."
   ]
  },
  {
   "cell_type": "code",
   "execution_count": 28,
   "metadata": {},
   "outputs": [],
   "source": [
    "joined_data = Processing.group_infected_cases(joined_data)"
   ]
  },
  {
   "cell_type": "markdown",
   "metadata": {},
   "source": [
    "#### Creating the days_from_symptoms group column..."
   ]
  },
  {
   "cell_type": "code",
   "execution_count": 29,
   "metadata": {},
   "outputs": [],
   "source": [
    "#joined_data = Processing.create_diff_between_symptoms_and_admission_feature(joined_data)"
   ]
  },
  {
   "cell_type": "markdown",
   "metadata": {},
   "source": [
    "#### Joining with the region data..."
   ]
  },
  {
   "cell_type": "code",
   "execution_count": 30,
   "metadata": {},
   "outputs": [
    {
     "name": "stderr",
     "output_type": "stream",
     "text": [
      "/home/andreas/anaconda3/envs/ba_env/lib/python3.7/site-packages/pandas/core/frame.py:2963: SettingWithCopyWarning: \n",
      "A value is trying to be set on a copy of a slice from a DataFrame.\n",
      "Try using .loc[row_indexer,col_indexer] = value instead\n",
      "\n",
      "See the caveats in the documentation: https://pandas.pydata.org/pandas-docs/stable/user_guide/indexing.html#returning-a-view-versus-a-copy\n",
      "  self[k1] = value[k2]\n"
     ]
    }
   ],
   "source": [
    "joined_data = Processing.join_and_proc_patient_data_with_region_data(joined_data, region_data)"
   ]
  },
  {
   "cell_type": "markdown",
   "metadata": {},
   "source": [
    "#### Join with the graph information..."
   ]
  },
  {
   "cell_type": "code",
   "execution_count": 31,
   "metadata": {},
   "outputs": [],
   "source": [
    "joined_data = pd.merge(joined_data, graph_data[[Params.PATIENT_ID] + Params.GRAPH_COLUMNS_TO_BE_USED],\n",
    "                       on = Params.PATIENT_ID, how = \"left\").fillna(0)"
   ]
  },
  {
   "cell_type": "markdown",
   "metadata": {},
   "source": [
    "#### Rename columns of dataset..."
   ]
  },
  {
   "cell_type": "code",
   "execution_count": 32,
   "metadata": {},
   "outputs": [],
   "source": [
    "joined_data = joined_data.rename(Params.COLUMN_RENAME_DICT, axis = 1)"
   ]
  },
  {
   "cell_type": "markdown",
   "metadata": {},
   "source": [
    "# Modelling"
   ]
  },
  {
   "cell_type": "markdown",
   "metadata": {},
   "source": [
    "#### Discarding the columns not used in the modelling stage"
   ]
  },
  {
   "cell_type": "code",
   "execution_count": 33,
   "metadata": {},
   "outputs": [],
   "source": [
    "data = joined_data.drop(Params.COLUMNS_NOT_USED_FOR_MODELLING, axis = 1)"
   ]
  },
  {
   "cell_type": "markdown",
   "metadata": {},
   "source": [
    "#### Adding distinguishing prefix to the values of the categorical columns..."
   ]
  },
  {
   "cell_type": "code",
   "execution_count": 34,
   "metadata": {},
   "outputs": [],
   "source": [
    "data = Processing.add_prefix_to_values_of_categorical_columns(data)"
   ]
  },
  {
   "cell_type": "markdown",
   "metadata": {},
   "source": [
    "#### Perform one-hot encoding of the categorical columns..."
   ]
  },
  {
   "cell_type": "code",
   "execution_count": 35,
   "metadata": {},
   "outputs": [],
   "source": [
    "data = Processing.perform_one_hot_encoding(data)"
   ]
  },
  {
   "cell_type": "markdown",
   "metadata": {},
   "source": [
    "#### Splitting the dataset from the label..."
   ]
  },
  {
   "cell_type": "code",
   "execution_count": 36,
   "metadata": {},
   "outputs": [],
   "source": [
    "y = data[Params.STATE]\n",
    "X = data.drop(Params.STATE, axis = 1)"
   ]
  },
  {
   "cell_type": "markdown",
   "metadata": {},
   "source": [
    "#### Convert state to binary label..."
   ]
  },
  {
   "cell_type": "code",
   "execution_count": 37,
   "metadata": {},
   "outputs": [],
   "source": [
    "y = Processing.map_state_to_binary_labels(y)"
   ]
  },
  {
   "cell_type": "markdown",
   "metadata": {},
   "source": [
    "#### Splitting into training and test set..."
   ]
  },
  {
   "cell_type": "code",
   "execution_count": 38,
   "metadata": {},
   "outputs": [],
   "source": [
    "traintest = Modelling.split_to_train_test(X, y)"
   ]
  },
  {
   "cell_type": "markdown",
   "metadata": {},
   "source": [
    "#### Further split training set to cross validation pairs..."
   ]
  },
  {
   "cell_type": "code",
   "execution_count": 39,
   "metadata": {},
   "outputs": [],
   "source": [
    "cross_val_pairs = Modelling.generate_cross_val_data_without_restrictions(traintest)"
   ]
  },
  {
   "cell_type": "markdown",
   "metadata": {},
   "source": [
    "#### Training and evaluating a Random Forest model using the cross-validation pairs..."
   ]
  },
  {
   "cell_type": "code",
   "execution_count": 40,
   "metadata": {
    "scrolled": false
   },
   "outputs": [
    {
     "name": "stdout",
     "output_type": "stream",
     "text": [
      "accuracy: 0.87\n",
      "precision: 0.85\n",
      "recall: 0.68\n"
     ]
    },
    {
     "data": {
      "image/png": "[encoded data removed]",
      "text/plain": [
       "<Figure size 432x288 with 1 Axes>"
      ]
     },
     "metadata": {
      "needs_background": "light"
     },
     "output_type": "display_data"
    }
   ],
   "source": [
    "MODEL = RandomForestClassifier(n_estimators = Params.RFC_N_ESTIMATORS, \n",
    "                               criterion = Params.RFC_CRITERION,\n",
    "                               max_depth = Params.RFC_MAX_DEPTH,\n",
    "                              random_state = Params.RANDOM_STATE\n",
    "                              )\n",
    "\n",
    "cross_val_res = Modelling.apply_classification(MODEL, cross_val_pairs, get_importances = True)\n",
    "\n",
    "cross_val_res.tostring()"
   ]
  },
  {
   "cell_type": "markdown",
   "metadata": {},
   "source": [
    "#### Obtaining generalization estimate using the test set..."
   ]
  },
  {
   "cell_type": "code",
   "execution_count": 41,
   "metadata": {},
   "outputs": [
    {
     "name": "stdout",
     "output_type": "stream",
     "text": [
      "accuracy: 0.89\n",
      "precision: 0.89\n",
      "recall: 0.62\n"
     ]
    },
    {
     "data": {
      "image/png": "[encoded data removed]",
      "text/plain": [
       "<Figure size 432x288 with 1 Axes>"
      ]
     },
     "metadata": {
      "needs_background": "light"
     },
     "output_type": "display_data"
    }
   ],
   "source": [
    "MODEL = RandomForestClassifier(n_estimators = Params.RFC_N_ESTIMATORS, \n",
    "                               criterion = Params.RFC_CRITERION,\n",
    "                               max_depth = Params.RFC_MAX_DEPTH,\n",
    "                              random_state = Params.RANDOM_STATE\n",
    "                              )\n",
    "\n",
    "\n",
    "generalization_estimate = Modelling.apply_classification(MODEL, [traintest], get_importances = True)\n",
    "\n",
    "generalization_estimate.tostring()"
   ]
  },
  {
   "cell_type": "markdown",
   "metadata": {},
   "source": [
    "# (Testing of methods)"
   ]
  },
  {
   "cell_type": "code",
   "execution_count": 42,
   "metadata": {},
   "outputs": [
    {
     "name": "stderr",
     "output_type": "stream",
     "text": [
      "/home/andreas/Documents/python-projects/corona_hackathon/source/Processing.py:279: SettingWithCopyWarning: \n",
      "A value is trying to be set on a copy of a slice from a DataFrame.\n",
      "Try using .loc[row_indexer,col_indexer] = value instead\n",
      "\n",
      "See the caveats in the documentation: https://pandas.pydata.org/pandas-docs/stable/user_guide/indexing.html#returning-a-view-versus-a-copy\n",
      "  deceased_patients[Params.STATE] = Params.SEVERE\n",
      "/home/andreas/Documents/python-projects/corona_hackathon/source/Processing.py:270: SettingWithCopyWarning: \n",
      "A value is trying to be set on a copy of a slice from a DataFrame.\n",
      "Try using .loc[row_indexer,col_indexer] = value instead\n",
      "\n",
      "See the caveats in the documentation: https://pandas.pydata.org/pandas-docs/stable/user_guide/indexing.html#returning-a-view-versus-a-copy\n",
      "  isolated_patients[\"days_in_hospital\"] = (current_date - isolated_patients[Params.ADMISSION_DATE]).dt.days\n",
      "/home/andreas/anaconda3/envs/ba_env/lib/python3.7/site-packages/pandas/core/indexing.py:966: SettingWithCopyWarning: \n",
      "A value is trying to be set on a copy of a slice from a DataFrame.\n",
      "Try using .loc[row_indexer,col_indexer] = value instead\n",
      "\n",
      "See the caveats in the documentation: https://pandas.pydata.org/pandas-docs/stable/user_guide/indexing.html#returning-a-view-versus-a-copy\n",
      "  self.obj[item] = s\n",
      "/home/andreas/Documents/python-projects/corona_hackathon/source/Processing.py:260: SettingWithCopyWarning: \n",
      "A value is trying to be set on a copy of a slice from a DataFrame.\n",
      "Try using .loc[row_indexer,col_indexer] = value instead\n",
      "\n",
      "See the caveats in the documentation: https://pandas.pydata.org/pandas-docs/stable/user_guide/indexing.html#returning-a-view-versus-a-copy\n",
      "  released_patients[\"days_in_hospital\"] = (released_patients[Params.RELEASED_DATE] - released_patients[Params.ADMISSION_DATE]).dt.days\n"
     ]
    },
    {
     "data": {
      "text/html": [
       "<div>\n",
       "<style scoped>\n",
       "    .dataframe tbody tr th:only-of-type {\n",
       "        vertical-align: middle;\n",
       "    }\n",
       "\n",
       "    .dataframe tbody tr th {\n",
       "        vertical-align: top;\n",
       "    }\n",
       "\n",
       "    .dataframe thead th {\n",
       "        text-align: right;\n",
       "    }\n",
       "</style>\n",
       "<table border=\"1\" class=\"dataframe\">\n",
       "  <thead>\n",
       "    <tr style=\"text-align: right;\">\n",
       "      <th></th>\n",
       "      <th>state</th>\n",
       "      <th>admission_date</th>\n",
       "      <th>released_date</th>\n",
       "    </tr>\n",
       "    <tr>\n",
       "      <th>patient_id</th>\n",
       "      <th></th>\n",
       "      <th></th>\n",
       "      <th></th>\n",
       "    </tr>\n",
       "  </thead>\n",
       "  <tbody>\n",
       "    <tr>\n",
       "      <th>1</th>\n",
       "      <td>severe</td>\n",
       "      <td>2019-11-11</td>\n",
       "      <td>NaT</td>\n",
       "    </tr>\n",
       "    <tr>\n",
       "      <th>2</th>\n",
       "      <td>severe</td>\n",
       "      <td>2019-11-14</td>\n",
       "      <td>NaT</td>\n",
       "    </tr>\n",
       "    <tr>\n",
       "      <th>4</th>\n",
       "      <td>mild</td>\n",
       "      <td>2019-11-11</td>\n",
       "      <td>2019-11-20</td>\n",
       "    </tr>\n",
       "    <tr>\n",
       "      <th>5</th>\n",
       "      <td>severe</td>\n",
       "      <td>2019-11-12</td>\n",
       "      <td>2019-12-15</td>\n",
       "    </tr>\n",
       "    <tr>\n",
       "      <th>7</th>\n",
       "      <td>severe</td>\n",
       "      <td>2019-11-11</td>\n",
       "      <td>NaT</td>\n",
       "    </tr>\n",
       "    <tr>\n",
       "      <th>8</th>\n",
       "      <td>severe</td>\n",
       "      <td>2019-10-12</td>\n",
       "      <td>NaT</td>\n",
       "    </tr>\n",
       "  </tbody>\n",
       "</table>\n",
       "</div>"
      ],
      "text/plain": [
       "             state admission_date released_date\n",
       "patient_id                                     \n",
       "1           severe     2019-11-11           NaT\n",
       "2           severe     2019-11-14           NaT\n",
       "4             mild     2019-11-11    2019-11-20\n",
       "5           severe     2019-11-12    2019-12-15\n",
       "7           severe     2019-11-11           NaT\n",
       "8           severe     2019-10-12           NaT"
      ]
     },
     "execution_count": 42,
     "metadata": {},
     "output_type": "execute_result"
    }
   ],
   "source": [
    "test_joined_df = pd.DataFrame({Params.PATIENT_ID: [1,\n",
    "                                                   2,\n",
    "                                                   3,\n",
    "                                                   4,\n",
    "                                                   5,\n",
    "                                                   6,\n",
    "                                                   7,\n",
    "                                                   8],\n",
    "                               \n",
    "    Params.STATE: [\"deceased\",\n",
    "                                             \"deceased\",\n",
    "                                             \"released\",\n",
    "                                             \"released\",\n",
    "                                             \"released\",\n",
    "                                             \"isolated\",\n",
    "                                             \"isolated\",\n",
    "                                             \"isolated\"],\n",
    "                               Params.ADMISSION_DATE: [datetime.datetime(2019,11,11),\n",
    "                                                      datetime.datetime(2019,11,14),\n",
    "                                                      datetime.datetime(2019, 11, 11),\n",
    "                                                      datetime.datetime(2019, 11, 11),\n",
    "                                                      datetime.datetime(2019, 11, 12),\n",
    "                                                      datetime.datetime(2019, 12, 11),\n",
    "                                                      datetime.datetime(2019, 11, 11),\n",
    "                                                      datetime.datetime(2019, 10, 12)],\n",
    "                               Params.RELEASED_DATE: [np.nan,\n",
    "                                                     np.nan,\n",
    "                                                     np.nan,\n",
    "                                                     datetime.datetime(2019, 11, 20),\n",
    "                                                     datetime.datetime(2019, 12, 15),\n",
    "                                                     np.nan,\n",
    "                                                     np.nan,\n",
    "                                                     np.nan]\n",
    "                              }).set_index(Params.PATIENT_ID)\n",
    "Processing.map_state_to_severity(test_joined_df, 30, datetime.datetime(2019, 12,16)).sort_index()"
   ]
  },
  {
   "cell_type": "code",
   "execution_count": 43,
   "metadata": {},
   "outputs": [
    {
     "data": {
      "text/html": [
       "<div>\n",
       "<style scoped>\n",
       "    .dataframe tbody tr th:only-of-type {\n",
       "        vertical-align: middle;\n",
       "    }\n",
       "\n",
       "    .dataframe tbody tr th {\n",
       "        vertical-align: top;\n",
       "    }\n",
       "\n",
       "    .dataframe thead th {\n",
       "        text-align: right;\n",
       "    }\n",
       "</style>\n",
       "<table border=\"1\" class=\"dataframe\">\n",
       "  <thead>\n",
       "    <tr style=\"text-align: right;\">\n",
       "      <th></th>\n",
       "      <th>patient_id</th>\n",
       "      <th>age</th>\n",
       "      <th>sex</th>\n",
       "      <th>infector_id</th>\n",
       "      <th>infector_age</th>\n",
       "      <th>infector_sex</th>\n",
       "    </tr>\n",
       "  </thead>\n",
       "  <tbody>\n",
       "    <tr>\n",
       "      <th>0</th>\n",
       "      <td>1</td>\n",
       "      <td>21</td>\n",
       "      <td>male</td>\n",
       "      <td>n</td>\n",
       "      <td>unknown</td>\n",
       "      <td>unknown</td>\n",
       "    </tr>\n",
       "    <tr>\n",
       "      <th>1</th>\n",
       "      <td>2</td>\n",
       "      <td>31</td>\n",
       "      <td>female</td>\n",
       "      <td>1</td>\n",
       "      <td>20s_30s</td>\n",
       "      <td>male</td>\n",
       "    </tr>\n",
       "    <tr>\n",
       "      <th>2</th>\n",
       "      <td>3</td>\n",
       "      <td>41</td>\n",
       "      <td>female</td>\n",
       "      <td>n</td>\n",
       "      <td>unknown</td>\n",
       "      <td>unknown</td>\n",
       "    </tr>\n",
       "    <tr>\n",
       "      <th>3</th>\n",
       "      <td>4</td>\n",
       "      <td>51</td>\n",
       "      <td>female</td>\n",
       "      <td>2</td>\n",
       "      <td>20s_30s</td>\n",
       "      <td>female</td>\n",
       "    </tr>\n",
       "    <tr>\n",
       "      <th>4</th>\n",
       "      <td>5</td>\n",
       "      <td>61</td>\n",
       "      <td>male</td>\n",
       "      <td>3</td>\n",
       "      <td>50s_60s</td>\n",
       "      <td>female</td>\n",
       "    </tr>\n",
       "    <tr>\n",
       "      <th>5</th>\n",
       "      <td>6</td>\n",
       "      <td>78</td>\n",
       "      <td>male</td>\n",
       "      <td>4</td>\n",
       "      <td>50s_60s</td>\n",
       "      <td>female</td>\n",
       "    </tr>\n",
       "  </tbody>\n",
       "</table>\n",
       "</div>"
      ],
      "text/plain": [
       "  patient_id  age     sex infector_id infector_age infector_sex\n",
       "0          1   21    male           n      unknown      unknown\n",
       "1          2   31  female           1      20s_30s         male\n",
       "2          3   41  female           n      unknown      unknown\n",
       "3          4   51  female           2      20s_30s       female\n",
       "4          5   61    male           3      50s_60s       female\n",
       "5          6   78    male           4      50s_60s       female"
      ]
     },
     "execution_count": 43,
     "metadata": {},
     "output_type": "execute_result"
    }
   ],
   "source": [
    "test_joined_df = pd.DataFrame({\n",
    "    \"patient_id\": [\"1\",\n",
    "                  \"2\",\n",
    "                  \"3\",\n",
    "                  \"4\",\n",
    "                  \"5\",\n",
    "                  \"6\"], \n",
    "     \"age\": [21,\n",
    "             31,\n",
    "             41,\n",
    "             51,\n",
    "             61,\n",
    "             78],\n",
    "     \"sex\": [\"male\",\n",
    "             \"female\",\n",
    "             \"female\",\n",
    "             \"female\",\n",
    "             \"male\",\n",
    "             \"male\"],\n",
    "     \"infector_id\": [\"n\",\n",
    "                    \"1\",\n",
    "                    \"n\",\n",
    "                    \"2\",\n",
    "                    \"3\",\n",
    "                    \"4\"]\n",
    "})\n",
    "\n",
    "Processing.join_patient_data_with_infector_data(test_joined_df)"
   ]
  },
  {
   "cell_type": "code",
   "execution_count": 44,
   "metadata": {},
   "outputs": [
    {
     "name": "stderr",
     "output_type": "stream",
     "text": [
      "/home/andreas/anaconda3/envs/ba_env/lib/python3.7/site-packages/pandas/core/frame.py:2963: SettingWithCopyWarning: \n",
      "A value is trying to be set on a copy of a slice from a DataFrame.\n",
      "Try using .loc[row_indexer,col_indexer] = value instead\n",
      "\n",
      "See the caveats in the documentation: https://pandas.pydata.org/pandas-docs/stable/user_guide/indexing.html#returning-a-view-versus-a-copy\n",
      "  self[k1] = value[k2]\n"
     ]
    },
    {
     "data": {
      "text/html": [
       "<div>\n",
       "<style scoped>\n",
       "    .dataframe tbody tr th:only-of-type {\n",
       "        vertical-align: middle;\n",
       "    }\n",
       "\n",
       "    .dataframe tbody tr th {\n",
       "        vertical-align: top;\n",
       "    }\n",
       "\n",
       "    .dataframe thead th {\n",
       "        text-align: right;\n",
       "    }\n",
       "</style>\n",
       "<table border=\"1\" class=\"dataframe\">\n",
       "  <thead>\n",
       "    <tr style=\"text-align: right;\">\n",
       "      <th></th>\n",
       "      <th>age</th>\n",
       "      <th>province</th>\n",
       "      <th>city</th>\n",
       "      <th>kindergardens</th>\n",
       "      <th>schools</th>\n",
       "    </tr>\n",
       "  </thead>\n",
       "  <tbody>\n",
       "    <tr>\n",
       "      <th>4</th>\n",
       "      <td>34</td>\n",
       "      <td>Busan</td>\n",
       "      <td>other2</td>\n",
       "      <td>5.0</td>\n",
       "      <td>15.0</td>\n",
       "    </tr>\n",
       "    <tr>\n",
       "      <th>5</th>\n",
       "      <td>35</td>\n",
       "      <td>Busan</td>\n",
       "      <td>etc</td>\n",
       "      <td>7.5</td>\n",
       "      <td>20.0</td>\n",
       "    </tr>\n",
       "    <tr>\n",
       "      <th>1</th>\n",
       "      <td>31</td>\n",
       "      <td>Seoul</td>\n",
       "      <td>other1</td>\n",
       "      <td>10.0</td>\n",
       "      <td>20.0</td>\n",
       "    </tr>\n",
       "    <tr>\n",
       "      <th>2</th>\n",
       "      <td>32</td>\n",
       "      <td>Seoul</td>\n",
       "      <td>etc</td>\n",
       "      <td>15.0</td>\n",
       "      <td>25.0</td>\n",
       "    </tr>\n",
       "    <tr>\n",
       "      <th>0</th>\n",
       "      <td>30</td>\n",
       "      <td>Seoul</td>\n",
       "      <td>Seoul</td>\n",
       "      <td>100.0</td>\n",
       "      <td>200.0</td>\n",
       "    </tr>\n",
       "    <tr>\n",
       "      <th>3</th>\n",
       "      <td>33</td>\n",
       "      <td>Busan</td>\n",
       "      <td>Busan</td>\n",
       "      <td>50.0</td>\n",
       "      <td>100.0</td>\n",
       "    </tr>\n",
       "  </tbody>\n",
       "</table>\n",
       "</div>"
      ],
      "text/plain": [
       "   age province    city  kindergardens  schools\n",
       "4   34    Busan  other2            5.0     15.0\n",
       "5   35    Busan     etc            7.5     20.0\n",
       "1   31    Seoul  other1           10.0     20.0\n",
       "2   32    Seoul     etc           15.0     25.0\n",
       "0   30    Seoul   Seoul          100.0    200.0\n",
       "3   33    Busan   Busan           50.0    100.0"
      ]
     },
     "execution_count": 44,
     "metadata": {},
     "output_type": "execute_result"
    }
   ],
   "source": [
    "test_joined_df = pd.DataFrame({\"age\": [30,31,32,33,34,35], \n",
    "                               \"province\": [\"Seoul\",\n",
    "                                                       \"Seoul\",\n",
    "                                                       \"Seoul\",\n",
    "                                                       \"Busan\",\n",
    "                                                      \"Busan\",\n",
    "                                                      \"Busan\"], \n",
    "                               \"city\": [\"Seoul\",\n",
    "                                        \"other1\",\n",
    "                                        \"etc\",\n",
    "                                        \"Busan\",\n",
    "                                       \"other2\",\n",
    "                                       \"etc\"]})\n",
    "test_region_df = pd.DataFrame({\"province\": [\"Seoul\",\n",
    "                                            \"Seoul\",\n",
    "                                            \"Seoul\",\n",
    "                                            \"Busan\",\n",
    "                                            \"Busan\",\n",
    "                                            \"Busan\"], \n",
    "                               \"city\" : [\"Seoul\",\n",
    "                                         \"other1\",\n",
    "                                         \"other2\",\n",
    "                                        \"Busan\",\n",
    "                                        \"other1\",\n",
    "                                        \"other2\"],\n",
    "                               \"kindergardens\": [100,\n",
    "                                                 10,\n",
    "                                                 20,\n",
    "                                                 50,\n",
    "                                                 10,\n",
    "                                                 5], \n",
    "                               \"schools\": [200,\n",
    "                                          20,\n",
    "                                          30,\n",
    "                                          100,\n",
    "                                          25,\n",
    "                                          15]})\n",
    "Processing.join_and_proc_patient_data_with_region_data(test_joined_df, test_region_df, [\"kindergardens\", \"schools\"])"
   ]
  },
  {
   "cell_type": "code",
   "execution_count": 45,
   "metadata": {},
   "outputs": [
    {
     "data": {
      "text/html": [
       "<div>\n",
       "<style scoped>\n",
       "    .dataframe tbody tr th:only-of-type {\n",
       "        vertical-align: middle;\n",
       "    }\n",
       "\n",
       "    .dataframe tbody tr th {\n",
       "        vertical-align: top;\n",
       "    }\n",
       "\n",
       "    .dataframe thead th {\n",
       "        text-align: right;\n",
       "    }\n",
       "</style>\n",
       "<table border=\"1\" class=\"dataframe\">\n",
       "  <thead>\n",
       "    <tr style=\"text-align: right;\">\n",
       "      <th></th>\n",
       "      <th>admission_date</th>\n",
       "      <th>symptom_onset_date</th>\n",
       "      <th>days_between_symptoms_and_admissions</th>\n",
       "    </tr>\n",
       "  </thead>\n",
       "  <tbody>\n",
       "    <tr>\n",
       "      <th>0</th>\n",
       "      <td>2019-11-11</td>\n",
       "      <td>2019-11-12</td>\n",
       "      <td>no_symptoms_at_admission</td>\n",
       "    </tr>\n",
       "    <tr>\n",
       "      <th>1</th>\n",
       "      <td>2019-11-13</td>\n",
       "      <td>2019-11-11</td>\n",
       "      <td>symptoms_1_to_2_days_before_admission</td>\n",
       "    </tr>\n",
       "    <tr>\n",
       "      <th>2</th>\n",
       "      <td>2019-11-13</td>\n",
       "      <td>NaT</td>\n",
       "      <td>unknown</td>\n",
       "    </tr>\n",
       "    <tr>\n",
       "      <th>3</th>\n",
       "      <td>2019-11-13</td>\n",
       "      <td>NaT</td>\n",
       "      <td>unknown</td>\n",
       "    </tr>\n",
       "    <tr>\n",
       "      <th>4</th>\n",
       "      <td>2019-11-15</td>\n",
       "      <td>2019-11-11</td>\n",
       "      <td>symptoms_3_to_5_days_before_admission</td>\n",
       "    </tr>\n",
       "    <tr>\n",
       "      <th>5</th>\n",
       "      <td>2019-11-19</td>\n",
       "      <td>2019-11-11</td>\n",
       "      <td>symptoms_6_to_10_days_before_admission</td>\n",
       "    </tr>\n",
       "    <tr>\n",
       "      <th>6</th>\n",
       "      <td>2019-11-29</td>\n",
       "      <td>2019-11-11</td>\n",
       "      <td>symptoms_more_than_10_days_before_admission</td>\n",
       "    </tr>\n",
       "  </tbody>\n",
       "</table>\n",
       "</div>"
      ],
      "text/plain": [
       "  admission_date symptom_onset_date  \\\n",
       "0     2019-11-11         2019-11-12   \n",
       "1     2019-11-13         2019-11-11   \n",
       "2     2019-11-13                NaT   \n",
       "3     2019-11-13                NaT   \n",
       "4     2019-11-15         2019-11-11   \n",
       "5     2019-11-19         2019-11-11   \n",
       "6     2019-11-29         2019-11-11   \n",
       "\n",
       "          days_between_symptoms_and_admissions  \n",
       "0                     no_symptoms_at_admission  \n",
       "1        symptoms_1_to_2_days_before_admission  \n",
       "2                                      unknown  \n",
       "3                                      unknown  \n",
       "4        symptoms_3_to_5_days_before_admission  \n",
       "5       symptoms_6_to_10_days_before_admission  \n",
       "6  symptoms_more_than_10_days_before_admission  "
      ]
     },
     "execution_count": 45,
     "metadata": {},
     "output_type": "execute_result"
    }
   ],
   "source": [
    "test_df = pd.DataFrame({Params.ADMISSION_DATE: [datetime.datetime(2019, 11, 11), \n",
    "                                               datetime.datetime(2019, 11, 13),\n",
    "                                                datetime.datetime(2019, 11, 13),\n",
    "                                                datetime.datetime(2019, 11, 13),\n",
    "                                                datetime.datetime(2019, 11, 15),\n",
    "                                                datetime.datetime(2019, 11, 19),\n",
    "                                                datetime.datetime(2019, 11, 29)\n",
    "                                               ],\n",
    "                        Params.SYMPTOM_ONSET_DATE: [datetime.datetime(2019, 11, 12),\n",
    "                                                    datetime.datetime(2019, 11, 11),\n",
    "                                                    np.nan,\n",
    "                                                    None,\n",
    "                                                    datetime.datetime(2019, 11, 11),\n",
    "                                                    datetime.datetime(2019, 11, 11),\n",
    "                                                    datetime.datetime(2019, 11, 11)\n",
    "                                                   ]})\n",
    "Processing.create_diff_between_symptoms_and_admission_feature(test_df)"
   ]
  },
  {
   "cell_type": "code",
   "execution_count": 46,
   "metadata": {},
   "outputs": [
    {
     "data": {
      "text/html": [
       "<div>\n",
       "<style scoped>\n",
       "    .dataframe tbody tr th:only-of-type {\n",
       "        vertical-align: middle;\n",
       "    }\n",
       "\n",
       "    .dataframe tbody tr th {\n",
       "        vertical-align: top;\n",
       "    }\n",
       "\n",
       "    .dataframe thead th {\n",
       "        text-align: right;\n",
       "    }\n",
       "</style>\n",
       "<table border=\"1\" class=\"dataframe\">\n",
       "  <thead>\n",
       "    <tr style=\"text-align: right;\">\n",
       "      <th></th>\n",
       "      <th>infection_case</th>\n",
       "    </tr>\n",
       "  </thead>\n",
       "  <tbody>\n",
       "    <tr>\n",
       "      <th>0</th>\n",
       "      <td>other</td>\n",
       "    </tr>\n",
       "    <tr>\n",
       "      <th>1</th>\n",
       "      <td>other</td>\n",
       "    </tr>\n",
       "    <tr>\n",
       "      <th>2</th>\n",
       "      <td>other</td>\n",
       "    </tr>\n",
       "    <tr>\n",
       "      <th>3</th>\n",
       "      <td>other</td>\n",
       "    </tr>\n",
       "    <tr>\n",
       "      <th>4</th>\n",
       "      <td>hospital</td>\n",
       "    </tr>\n",
       "    <tr>\n",
       "      <th>5</th>\n",
       "      <td>other</td>\n",
       "    </tr>\n",
       "    <tr>\n",
       "      <th>6</th>\n",
       "      <td>overseas inflow</td>\n",
       "    </tr>\n",
       "    <tr>\n",
       "      <th>7</th>\n",
       "      <td>unknown</td>\n",
       "    </tr>\n",
       "    <tr>\n",
       "      <th>8</th>\n",
       "      <td>unknown</td>\n",
       "    </tr>\n",
       "    <tr>\n",
       "      <th>9</th>\n",
       "      <td>contact with patient</td>\n",
       "    </tr>\n",
       "    <tr>\n",
       "      <th>10</th>\n",
       "      <td>nursing_home</td>\n",
       "    </tr>\n",
       "  </tbody>\n",
       "</table>\n",
       "</div>"
      ],
      "text/plain": [
       "          infection_case\n",
       "0                  other\n",
       "1                  other\n",
       "2                  other\n",
       "3                  other\n",
       "4               hospital\n",
       "5                  other\n",
       "6        overseas inflow\n",
       "7                unknown\n",
       "8                unknown\n",
       "9   contact with patient\n",
       "10          nursing_home"
      ]
     },
     "execution_count": 46,
     "metadata": {},
     "output_type": "execute_result"
    }
   ],
   "source": [
    "test_df = pd.DataFrame({Params.INFECTION_CASE : [\"Pilgrimage to Israel\",\n",
    "                                       \"River of Grace Community Church\",\n",
    "                                       \"Geochang Church\",\n",
    "                                       \"Milal Shelter\",\n",
    "                                       \"Eunpyeong St. Mary's Hospital\",\n",
    "                                       \"Ministry of Oceans and Fisheries\",\n",
    "                                       \"overseas inflow\",\n",
    "                                       None,\n",
    "                                       np.nan,\n",
    "                                       \"contact with patient\",\n",
    "                                       \"Bonghwa Pureun Nursing Home\"\n",
    "                                      ]})\n",
    "\n",
    "\n",
    "Processing.group_infected_cases(test_df)"
   ]
  },
  {
   "cell_type": "code",
   "execution_count": null,
   "metadata": {},
   "outputs": [],
   "source": []
  }
 ],
 "metadata": {
  "kernelspec": {
   "display_name": "Python 3",
   "language": "python",
   "name": "python3"
  },
  "language_info": {
   "codemirror_mode": {
    "name": "ipython",
    "version": 3
   },
   "file_extension": ".py",
   "mimetype": "text/x-python",
   "name": "python",
   "nbconvert_exporter": "python",
   "pygments_lexer": "ipython3",
   "version": "3.7.7"
  }
 },
 "nbformat": 4,
 "nbformat_minor": 4
}
